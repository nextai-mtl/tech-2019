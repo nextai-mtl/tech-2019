{
 "cells": [
  {
   "cell_type": "markdown",
   "metadata": {
    "colab_type": "text",
    "id": "B9ALu78bhPXM"
   },
   "source": [
    "# NEXTAI-MTL\n",
    "# Technical Stream\n",
    "# 2019 Cohort\n",
    "# Tutorial : Recurrent neural networks (RNNs)\n",
    "## Tutorial was adapted from this one (in french): \n",
    "https://github.com/mila-iqia/ecole_dl_mila_ivado/blob/master/tutoriaux/RNN/RNN_solutions.ipynb\n",
    "\n"
   ]
  },
  {
   "cell_type": "markdown",
   "metadata": {
    "colab_type": "text",
    "id": "MIH_PfZV1rNa"
   },
   "source": [
    "## Autors\n",
    "\n",
    "Francis Grégoire <francis.gregoire@rd.mila.quebec>\n",
    "\n",
    "Jeremy Pinto <jeremy.pinto@rd.mila.quebec>\n",
    "\n",
    "Jean-Philippe Reid <Jean-Philippe.Reid@ElementAI.com>\n",
    "\n",
    "Mirko Bronzi <mirko.bronzi@mila.quebec>\n",
    "\n",
    "### Translation to English: \n",
    "\n",
    "Laurent Charlin <lcharlin@gmail.com>"
   ]
  },
  {
   "cell_type": "markdown",
   "metadata": {
    "colab_type": "text",
    "id": "OYrPFO1p1rX1"
   },
   "source": [
    "## Preface\n",
    "\n",
    "This tutorial introduces the fundamental concepts that underlie recurrent neural networks (RNN et LSTM) using two example tasks.\n",
    "\n",
    "The first task builds and compares an LSTM model to an RNN model.\n",
    "\n",
    "In the second task, we exploit the properties of an LSTM by developping a neural language model to generate text. Through this example, you will learn how to preprocess text data to efficiently train a neural language model."
   ]
  },
  {
   "cell_type": "markdown",
   "metadata": {
    "colab_type": "text",
    "id": "ArGnixElhPXN"
   },
   "source": [
    "---\n",
    "# Initialization \n",
    "\n",
    "To ensure that this tutorial runs properly on the Colab environment, we must install a few libraries using the `pip` utility. \n",
    "\n",
    "To begin, ensure that you are \"connected\" to the notebook ( check for \"✓ CONNECTED\" at the top right of your window). Then execute the cell below by selecting it and clicking `shift`+`Enter`. This can take a few minutes."
   ]
  },
  {
   "cell_type": "code",
   "execution_count": 2,
   "metadata": {
    "colab": {
     "base_uri": "https://localhost:8080/",
     "height": 437
    },
    "colab_type": "code",
    "id": "028-EhOGhPXO",
    "outputId": "d4754a3b-5953-4c8d-f1bd-0f75ba16561c"
   },
   "outputs": [
    {
     "name": "stdout",
     "output_type": "stream",
     "text": [
      "Collecting torch\n",
      "  Using cached https://files.pythonhosted.org/packages/5f/4a/f4eb1d57fa7db52298959ce38f27869dfe6bc75010048a64c5be94cbd33f/torch-1.0.1.post2-cp37-none-macosx_10_7_x86_64.whl\n",
      "Collecting torchvision\n",
      "  Using cached https://files.pythonhosted.org/packages/fb/01/03fd7e503c16b3dc262483e5555ad40974ab5da8b9879e164b56c1f4ef6f/torchvision-0.2.2.post3-py2.py3-none-any.whl\n",
      "Collecting matplotlib\n",
      "  Using cached https://files.pythonhosted.org/packages/2e/81/bb51214944e79f9c9261badd7ef99b573fb0bc9110c0075c6a9e76224d0d/matplotlib-3.0.3-cp37-cp37m-macosx_10_6_intel.macosx_10_9_intel.macosx_10_9_x86_64.macosx_10_10_intel.macosx_10_10_x86_64.whl\n",
      "Collecting pillow>=4.1.1 (from torchvision)\n",
      "  Using cached https://files.pythonhosted.org/packages/c9/ed/27cc92e99b9ccaa0985a66133baeea7e8a3371d3c04cfa353aaa3b81aac1/Pillow-5.4.1-cp37-cp37m-macosx_10_6_intel.macosx_10_9_intel.macosx_10_9_x86_64.macosx_10_10_intel.macosx_10_10_x86_64.whl\n",
      "Collecting numpy (from torchvision)\n",
      "  Using cached https://files.pythonhosted.org/packages/a6/6f/cb20ccd8f0f8581e0e090775c0e3c3e335b037818416e6fa945d924397d2/numpy-1.16.2-cp37-cp37m-macosx_10_6_intel.macosx_10_9_intel.macosx_10_9_x86_64.macosx_10_10_intel.macosx_10_10_x86_64.whl\n",
      "Collecting six (from torchvision)\n",
      "  Using cached https://files.pythonhosted.org/packages/73/fb/00a976f728d0d1fecfe898238ce23f502a721c0ac0ecfedb80e0d88c64e9/six-1.12.0-py2.py3-none-any.whl\n",
      "Collecting cycler>=0.10 (from matplotlib)\n",
      "  Using cached https://files.pythonhosted.org/packages/f7/d2/e07d3ebb2bd7af696440ce7e754c59dd546ffe1bbe732c8ab68b9c834e61/cycler-0.10.0-py2.py3-none-any.whl\n",
      "Collecting python-dateutil>=2.1 (from matplotlib)\n",
      "  Using cached https://files.pythonhosted.org/packages/41/17/c62faccbfbd163c7f57f3844689e3a78bae1f403648a6afb1d0866d87fbb/python_dateutil-2.8.0-py2.py3-none-any.whl\n",
      "Collecting pyparsing!=2.0.4,!=2.1.2,!=2.1.6,>=2.0.1 (from matplotlib)\n",
      "  Using cached https://files.pythonhosted.org/packages/de/0a/001be530836743d8be6c2d85069f46fecf84ac6c18c7f5fb8125ee11d854/pyparsing-2.3.1-py2.py3-none-any.whl\n",
      "Collecting kiwisolver>=1.0.1 (from matplotlib)\n",
      "  Using cached https://files.pythonhosted.org/packages/68/f2/21ec13269a420c063a3d7d8c87dac030da7b00fc6b27fa88cfb1c72a645b/kiwisolver-1.0.1-cp37-cp37m-macosx_10_6_intel.macosx_10_9_intel.macosx_10_9_x86_64.macosx_10_10_intel.macosx_10_10_x86_64.whl\n",
      "Requirement already satisfied: setuptools in /usr/local/lib/python3.7/site-packages (from kiwisolver>=1.0.1->matplotlib) (40.6.3)\n",
      "Installing collected packages: torch, pillow, numpy, six, torchvision, cycler, python-dateutil, pyparsing, kiwisolver, matplotlib\n",
      "Successfully installed cycler-0.10.0 kiwisolver-1.0.1 matplotlib-3.0.3 numpy-1.16.2 pillow-5.4.1 pyparsing-2.3.1 python-dateutil-2.8.0 six-1.12.0 torch-1.0.1.post2 torchvision-0.2.2.post3\n"
     ]
    }
   ],
   "source": [
    "!pip3 install torch torchvision matplotlib"
   ]
  },
  {
   "cell_type": "code",
   "execution_count": 3,
   "metadata": {
    "colab": {
     "base_uri": "https://localhost:8080/",
     "height": 54
    },
    "colab_type": "code",
    "id": "UwebZdYMhPXT",
    "outputId": "dce7f788-6635-4ad6-f85a-65118c45e7c4"
   },
   "outputs": [
    {
     "name": "stdout",
     "output_type": "stream",
     "text": [
      "PyTorch version:  1.0.1.post2\n",
      "GPU available: False\n"
     ]
    }
   ],
   "source": [
    "import copy\n",
    "import time\n",
    "import os\n",
    "\n",
    "import numpy as np\n",
    "import matplotlib.pyplot as plt\n",
    "%matplotlib inline\n",
    "\n",
    "import torch\n",
    "import torch.nn as nn\n",
    "import torch.nn.functional as F\n",
    "import torch.nn.init as init\n",
    "import torch.optim as optim\n",
    "\n",
    "from torch.utils.data import DataLoader, TensorDataset\n",
    "\n",
    "\n",
    "use_gpu = torch.cuda.is_available()\n",
    "device = torch.device(\"cuda:0\" if use_gpu else \"cpu\")\n",
    "\n",
    "# Setting the seed to a fixed value can be helpful in reproducing results\n",
    "seed = 42\n",
    "torch.manual_seed(seed)\n",
    "torch.cuda.manual_seed(seed)\n",
    "\n",
    "print(\"PyTorch version: \", torch.__version__)\n",
    "print(\"GPU available: {}\".format(use_gpu))"
   ]
  },
  {
   "cell_type": "markdown",
   "metadata": {
    "colab_type": "text",
    "id": "odAnur2xtX8n"
   },
   "source": [
    "---\n",
    "# Theoretical context"
   ]
  },
  {
   "cell_type": "markdown",
   "metadata": {
    "colab_type": "text",
    "id": "bU1k5WvhhPXX"
   },
   "source": [
    "\n",
    "## Recurrent neural networks\n",
    "\n",
    "Sequential data is ubiquituous and many tasks require it. Models of text data for tasks such as automatic translation, question answering, and dialogs are good examples. These model take into account the sequentiality (or temporality) of the data. That is, they model each word using its surrounding context (most often the words that appeared previously). \n",
    "\n",
    "Sequential data is challenging for multi-layer perceptrons because the data is typically not of fixed length (i.e., different text have different lengths). Further MLPs typically do not model the order of their inputs while the order of sequential data is very important.\n",
    "\n",
    "Recurrent neural networks (RNNs) are models designed for such varying-length data. By varying length we mean that each example may have a different length (for example if each example is a sentence, then sentences could have different lengths). More formally, two sentences $\\mathbf{s}_{i} = (x_{i,1}, \\dots, x_{i,N})$ and $\\mathbf{s}_{j} = (x_{j,1}, \\dots, x_{j,M})$ are of different lengths if $N \\neq M$. The hidden layer of an RNN  $\\mathbf{h}_{t} \\in \\mathbb R^{d_{h}}$, also known as a recurrent state, is a $d_{h}$-dimensional vector which represents the memory of the network through time. At each time step $t$, the recurrent state is a recursive function which updates itself using the input variables $x_{t}$ and its recurrent state at the previous timestep $\\mathbf{h}_{t-1}$. This function can be written down as\n",
    "\n",
    "\\begin{equation}\n",
    "  \\mathbf{h_{t}} = f(x_{t}, \\mathbf{h}_{t-1}).\n",
    "\\end{equation}\n",
    "\n",
    "It ensures that the output of the model at each timestep $t$ depends on the history (e.g., all inputs up to now). The function $f(\\cdot)$ can be parametrized in various ways. For a vanilla RNN we use: \n",
    "\n",
    "\\begin{equation}\n",
    "  f(x_{t}, \\mathbf{h}_{t-1}) = g(\\mathbf{W}\\psi(x_{t}) + \\mathbf{U}\\mathbf{h}_{t-1} + \\mathbf{b}_{h}),\n",
    "\\end{equation}\n",
    "\n",
    "where $\\psi(x_{t})$ can be the identity function (this is what we will use in task 1) or a function which transforms a discrete variable into a continuous $d_{e}$-dimensional vectorial representation (this is what we will use in task 2). The $\\mathbf{W} \\in \\mathbb R^{d_{h} \\times d_{e}}$ and $\\mathbf{U} \\in \\mathbb R^{d_{h} \\times d_{h}}$ matrices are the shared parameters of the model. They are shared through all timesteps. (In other words we assume that the transition dynamics are static). These matrices encode how much importance to give to the current datum and to the previous recurrent state. Last, $g(\\cdot)$ is a non-linear activation.\n",
    "\n",
    "A schema of a basic RNN looks like this:\n",
    "\n",
    "![alt-text](https://github.com/nextai-mtl/tech-2019/blob/master/images/RNN-unrolled.png?raw=true)\n",
    "\n",
    "The network's structure and the output $y$'s format are task-dependant. For modelling classification tasks where the output occurs at a single timestep (usually right after the last input) we typically use the vector representation of the last recurrent state. \n",
    "\n",
    "For binary classification problems  ($y \\in \\{0,1\\}$), we use a $\\sigma$ activation function which corresponds to a Bernoulli output. This output can be understood as predicting a normalized score sometimes referred to as the probability of the output taking the value 1: \n",
    "\n",
    "\\begin{equation}\n",
    "  p(y_{t} = 1 | \\mathbf{h}_{t}) = \\sigma(\\mathbf{v}^\\top \\mathbf{h}_{t} + \\mathbf{b}_{c}).\n",
    "\\end{equation}\n",
    "\n",
    "\n",
    "For multi-class classification problems ($y \\in \\{0,1,2,\\ldots,n\\}$), the output layer contains $n$ neurons and we typically use a *softmax* activation function which returns normalized score over each possible class:\n",
    "\n",
    "\\begin{equation}\n",
    "  [p(y_{t} = 1 | \\mathbf{h}_{t}), \\dots, p(y_{t} = n | \\mathbf{h}_{t})]^\\top = softmax(\\mathbf{V}^\\top \\mathbf{h}_{t} + \\mathbf{b}_{c}),\n",
    "\\end{equation}\n",
    "\n",
    "where $\\mathbf{V} \\in \\mathbb R^{d_{h} \\times d_{y}}$, $\\mathbf{v}\\ \\in \\mathbb R^{d_{h}}$ et $\\mathbf{b}_{c}\\ \\in \\mathbb R^{d_{y}}$ are parameters of the model.\n",
    "\n",
    "### Long-term dependencies\n",
    "In theory, RNNs can model arbitrarily long dependencies in sequences. In practice, it was shown that it is difficult to learn long-term dependices using RNNs (see this [article from Bengio et al. (1994)](http://ai.dinfo.unifi.it/paolo/ps/tnn-94-gradient.pdf) for the details). The intuition is as follows. RNNs are recursive models and their parameters are shared through all timesteps (e.g., for a sequence of length 10, the same parameters will be used on the order of 10 times). Let us think of how the error calculated at the last step will be lead to an update at the first step. The gradient will have to flow back through each recurent state in reverse order. This sequence of operations involves a sequence of multiplications (through the chain rule of derivation). For a sequence of $N$ timesteps, this could have two effects: 1) the gradient could be multiplied by a sequence of small numbers and tend to 0; 2) the gradient can be multiplied by a sequence of large numbers and tend to very large values. The former is called the *vanishing gradient problem*, while the latter the *exploding gradient problem*. "
   ]
  },
  {
   "cell_type": "markdown",
   "metadata": {
    "colab_type": "text",
    "id": "2SmKN04AudAI"
   },
   "source": [
    "## Long Short Term Memory\n",
    "\n",
    "The Long Short Term Memory (LSTM) was introduced to sidestep the *exploding gradient problem* and in doing so to enable RNNs to learn (very) long-term dependencies. It is now the most commonly used model for natural language processing (NLP) tasks using neural architectures. LSTMs change the internal functions used to update recurrent states to a more sophisticated one. The two images below show the difference between the internal mechanism of an RNN (above) and that of a LSTM (below).\n",
    "\n",
    "![alt-text](https://github.com/nextai-mtl/tech-2019/blob/master/images/LSTM3-SimpleRNN.png?raw=true)\n",
    "![alt-text](https://github.com/nextai-mtl/tech-2019/blob/master/images/LSTM3-chain.png?raw=true)\n",
    "\n",
    "Contrary to a vanilla RNN, an LSTM divides the memory into two componants: 1) the state of the memory $\\mathbf{c_{t}}$, and 2) the recurrent state $\\mathbf{h_{t}}$. The recurrent state $\\mathbf{h_{t}}$ is a subset of the hidden-memory state $\\mathbf{c_{t}}$ and only it is visible to the other parts of the network. The LSTM uses an *output gate* $\\mathbf{o}$ to determine how much memory to let through to the recurrent state. The *output gate* function is calculated as follows:\n",
    "\n",
    "\\begin{equation}\n",
    "  \\mathbf{o} = \\sigma(\\mathbf{W}_{o} \\psi(x_{t}) + \\mathbf{U}_{o} \\mathbf{h}_{t-1} + \\mathbf{b}_{o}).\n",
    "\\end{equation}\n",
    "\n",
    "This vector is multiplied element-by-element with its memory state which results in the following recurrent state:\n",
    "\n",
    "\\begin{equation}\n",
    "  \\mathbf{h}_{t} = \\mathbf{o} \\odot tanh(\\mathbf{c}_{t}).\n",
    "\\end{equation}\n",
    "\n",
    "To update the memory state, the LSTM uses a *forget gate* $\\mathbf{f}$ and an *input gate* $\\mathbf{i}$ such that:\n",
    "\n",
    "\\begin{equation}\n",
    "  \\mathbf{c}_{t} = \\mathbf{f} \\odot \\mathbf{c}_{t-1} + \\mathbf{i} \\odot \\tilde{\\mathbf{c}}_{t},\n",
    "\\end{equation}\n",
    "\n",
    "where $\\tilde{\\mathbf{c}}_{t}$ is a memory-state candidate. The *forget gate* determines how much information to forget from the memory state, while the *input gate* controles how much information to keep from the new input and from the the previous recurrent state:\n",
    "\n",
    "\\begin{gather}\n",
    "  \\mathbf{f} = \\sigma(\\mathbf{W}_{f} \\psi(x_{t}) + \\mathbf{U}_{f} \\mathbf{h}_{t-1} + \\mathbf{b}_{f}), \\\\\n",
    "  \\mathbf{i} = \\sigma(\\mathbf{W}_{i} \\psi(x_{t}) + \\mathbf{U}_{i} \\mathbf{h}_{t-1} + \\mathbf{b}_{i}), \\\\\n",
    "  \\tilde{\\mathbf{c}} = tanh(\\mathbf{W}_{c} \\psi(x_{t}) + \\mathbf{U}_{c} \\mathbf{h}_{t-1} + \\mathbf{b}_{c}).\n",
    "\\end{gather}\n",
    "\n",
    "The parameters $\\mathbf{W}_{o}$, $\\mathbf{U}_{o}$, $\\mathbf{b}_{o}$, $\\mathbf{W}_{f}$, $\\mathbf{U}_{f}$, $\\mathbf{b}_{f}$, $\\mathbf{W}_{i}$, $\\mathbf{U}_{i}$, $\\mathbf{b}_{i}$, $\\mathbf{W}_{c}$, $\\mathbf{U}_{c}$ and $\\mathbf{b}_{c}$ are specific LSTM parameters which must be learned just like all other model parameters.\n",
    "\n",
    "To know more about LSTMs we encourage you to read this [article in Colah](http://colah.github.io/posts/2015-08-Understanding-LSTMs/) (this is *not* colab).\n"
   ]
  },
  {
   "cell_type": "markdown",
   "metadata": {
    "colab_type": "text",
    "id": "7SLcPxj5z2vX"
   },
   "source": [
    "---\n",
    "# Task 1: Adding numbers"
   ]
  },
  {
   "cell_type": "markdown",
   "metadata": {
    "colab_type": "text",
    "id": "4Y-PnqdMhPXX"
   },
   "source": [
    "\n",
    "## Objective\n",
    "\n",
    "Our goal is to build a recurrent model capable of adding an arbitrary series of numbers. It is all in all a fairly simple task (any pocket calculator can trivially do it) yet it will demonstrate that this procedure can be learned from data. Further, we will use it to outline certain limitations of RNNs compared to LSTMs. It is also a good first task since it will be easy to generate data for it and train our models (both RNN and LSTM) on this data.\n",
    "\n"
   ]
  },
  {
   "cell_type": "markdown",
   "metadata": {
    "colab_type": "text",
    "id": "nihkB--rz6WL"
   },
   "source": [
    "## Dataset\n",
    "\n",
    "Our data is composed of $x$ a set of sequences of numbers of length $seq\\_len$ each associated with a target $y$ the sum of each element in each $x$. In other words, the input to our model will be a vector $\\mathbf x^{(i)} = \\left[x_{1}^{i}, x_{2}^{i}, \\dots, x_{T}^{i}\\right]$ of length $seq\\_len=T$ and a target $y^{(i)}$ given by:\n",
    "\n",
    "\\begin{align}  \n",
    "y^{(i)}=\\sum_{j=1}^{seq\\_len}x^{(i)}_j,\n",
    "\\end{align}\n",
    "\n",
    "where $j$ indexes time.\n",
    "\n",
    "For example, for the input $\\mathbf x^{(i)}$ with $seq\\_len=4$, we have:\n",
    "\n",
    "\\begin{align}  \n",
    "\\mathbf x^{(i)} &= \\left[ 4,-1,15,24\\right], \\, \\mathbf x^{(i)} \\in \\mathbb R^{4}; \\\\ \n",
    "y^{(i)} &= 42, \\, \\mathrm y^{(i)} \\in \\mathbb R.\n",
    "\\end{align}\n",
    "\n",
    "We will use our data to train both an RNN and an LSTM. Since the target is an unbounded integer, we will use a linear hidden layer (i.e., identity activation) to project the last recurrent state of the RNN/LSTM, $h^{(i)}_{T}$, as shown on the following figure:\n",
    "\n",
    "![Texte alternatif…](https://github.com/jphreid/tutorial_ivado/raw/master/lstm-figures.002.jpeg)\n"
   ]
  },
  {
   "cell_type": "markdown",
   "metadata": {
    "colab_type": "text",
    "id": "zZNrVvS8hPXY"
   },
   "source": [
    "### Generating our dataset\n",
    "\n",
    "It will be useful to have a function that can generate random datasets of `n_samples` sequences each of length `seq_length`. To do so we will rely on the function [torch.randint()](https://pytorch.org/docs/stable/torch.html#torch.randint)."
   ]
  },
  {
   "cell_type": "code",
   "execution_count": 4,
   "metadata": {
    "code_folding": [],
    "colab": {
     "base_uri": "https://localhost:8080/",
     "height": 54
    },
    "colab_type": "code",
    "id": "nKFfyWFahPXZ",
    "outputId": "8d9b7f1b-28c9-45d7-900b-2256539a1fac"
   },
   "outputs": [
    {
     "name": "stdout",
     "output_type": "stream",
     "text": [
      "Tensor dimensions X = torch.Size([1000, 4, 1])\n",
      "where n_samples = 1000, seq_len = 4, input_dim = 1\n"
     ]
    }
   ],
   "source": [
    "def generate_data(n_samples, seq_len, input_dim, xmin=-100, xmax=100):\n",
    "    \"\"\"Generate tensors X and Y within the [xmin, xmax] interval.\n",
    "    \n",
    "    Args : \n",
    "      n_samples: int, number of sequences to generate\n",
    "      seq_len: int, length of each sequence\n",
    "      xmin: minimum possible value in the sequence\n",
    "      xmax: maximum possible value in the sequence\n",
    "    \n",
    "    Returns: n_samples sequence of numbers X and associated targets Y in this format \n",
    "             torch.Tensor where X.shape = (n_samples, seq_len, 1) and\n",
    "             Y.shape = (n_samples, 1).\n",
    "    \"\"\"\n",
    "    \n",
    "    # To complete\n",
    "\n",
    "    return X, Y\n",
    "\n",
    "\n",
    "n_samples = 1000\n",
    "seq_len = 4\n",
    "input_dim = 1\n",
    "X, Y = generate_data(n_samples, seq_len, input_dim, -100, 100)\n",
    "print(\"Tensor dimensions X = {}\".format(X.shape))\n",
    "print(\"where n_samples = {}, seq_len = {}, input_dim = {}\".format(*X.shape))"
   ]
  },
  {
   "cell_type": "markdown",
   "metadata": {
    "colab_type": "text",
    "id": "-uhue_rShPXc"
   },
   "source": [
    "The `generate_data()` function returns two tensors `X` and `Y`, where `X` contains the input sequences of numbers and `Y` their associated targes (i.e., the sum of the `X` sequences). `X`'s shape is `(n_samples, seq_len, input_size)` where `input_size=1` since we will feed a single real number at each timestep $\\in \\mathbb R$."
   ]
  },
  {
   "cell_type": "markdown",
   "metadata": {
    "colab_type": "text",
    "id": "s1wHZ_PFhPXf"
   },
   "source": [
    "### Standardizing data\n",
    "\n",
    "To help the training of our model we will first standardize the input data such that it has, overal, mean 0 and standard deviation (std) 1. To do so we simply calculate the mean and std of our data and then substract the former and divide by the latter. In addition, we will store these two values for later usage. This standardization often speeds up learning.\n",
    "\n",
    "Note: since we generated our data from a uniform distribution, the standard deviation should be close to $\\frac{(xmax-xmin)}{\\sqrt{12}}$ while the mean should be close to $\\frac{(xmax-xmin)}{2}$."
   ]
  },
  {
   "cell_type": "code",
   "execution_count": 13,
   "metadata": {
    "colab": {
     "base_uri": "https://localhost:8080/",
     "height": 35
    },
    "colab_type": "code",
    "id": "UdL_y85mhPXg",
    "outputId": "50e3339c-df96-43e1-efac-9348fcbab9b1"
   },
   "outputs": [
    {
     "name": "stdout",
     "output_type": "stream",
     "text": [
      "mean = 0.1497, std = 58.4915\n"
     ]
    }
   ],
   "source": [
    "def standardize(X):\n",
    "    \"\"\"The function standardizes the X tensor. \n",
    "    Args:\n",
    "      X: torch.Tensor.\n",
    "    \n",
    "    Returns:\n",
    "      X: torch.Tensor standardize.\n",
    "      Y: torch.Tensor, the (new) sum of X.\n",
    "    \"\"\"\n",
    "\n",
    "    # To complete\n",
    "\n",
    "    return X, Y, mean, std\n",
    "\n",
    "\n",
    "X, Y = generate_data(n_samples, seq_len, input_dim, -100, 100)\n",
    "X, Y, mean, std = standardize(X)\n",
    "print(\"mean = {:.4f}, std = {:.4f}\".format(mean, std))"
   ]
  },
  {
   "cell_type": "markdown",
   "metadata": {
    "colab_type": "text",
    "id": "wCm8xalthPXj"
   },
   "source": [
    "## RNN implementation \n",
    "\n",
    "We will define our RNN using the following PyTorch class [torch.nn.RNN()](https://pytorch.org/docs/stable/nn.html?highlight=rnn#rnn). For more details regarding the implementation of this class, we suggest this [tutoriel](https://pytorch.org/tutorials/beginner/former_torchies/nn_tutorial.html#example-2-recurrent-net). Once initialized, it takes input data `X` of size `(seq_len, batch_size, input_size)` (recall that we will use `input_size=1` for our task). As explained earlier, we then add a linear layer to transform the last hidden recurrent state to have the same dimensionality as `Y` which has size `(batch_size, input_size)` (again `input_size=1`). \n",
    "\n",
    "To define the architecture of our RNN, we will use this module [torch.nn.RNN()](https://pytorch.org/docs/stable/nn.html?highlight=rnn#rnn) followed by a linear layer [torch.nn.Linear()](https://pytorch.org/docs/stable/nn.html#linear). The following methods are to be completed:\n",
    "<ul>\n",
    "<li>The `__init__()` method to define the different layers of our model. </li>\n",
    "<li>The `forward()` method which uses the layers and the input variables and returns an output (this is effectively a *forward pass*).</li>\n",
    "</ul>\n",
    "\n",
    "**Nota bene**: \n",
    "\n",
    "* It can be puzzling to obtain the last recurrent state of the last hidden layer of an RNN, $h_{T}^{N}$, where $T$ is the last timestep and $N$ is the last hidden layer. It can be obtained by indexing one of these tensor as follows: `output[-1, :, :]` or `hidden_T[-1]`.\n",
    "\n",
    "* You must ensure that the dimensions of your input data `X` matches what is required by the RNN class [torch.nn.RNN()](https://pytorch.org/docs/stable/nn.html?highlight=rnn#rnn). *Hint:* this method [tensor.transpose()](https://pytorch.org/docs/stable/tensors.html?highlight=transpose#torch.Tensor.transpose) can be useful."
   ]
  },
  {
   "cell_type": "code",
   "execution_count": 14,
   "metadata": {
    "colab": {
     "base_uri": "https://localhost:8080/",
     "height": 54
    },
    "colab_type": "code",
    "id": "3QCVSZGzhPXk",
    "outputId": "ea47b9d8-45d2-43c7-f68c-0b95b75a0fa5"
   },
   "outputs": [
    {
     "name": "stdout",
     "output_type": "stream",
     "text": [
      "Size of input data: torch.Size([1000, 4, 1])\n",
      "Size of predictions: torch.Size([1000, 1])\n"
     ]
    }
   ],
   "source": [
    "class RNNLinear(nn.Module):\n",
    "\n",
    "    def __init__(self, input_size, output_size, hidden_size, n_layers):\n",
    "        super(RNNLinear, self).__init__()\n",
    "        \n",
    "        # To complete\n",
    "        \n",
    "    def forward(self, x):\n",
    "\n",
    "        # To complete\n",
    "        # Recall: The RNN's input must be of size (seq_len, batch_size, input_size)\n",
    "        \n",
    "        return pred\n",
    "    \n",
    "    \n",
    "input_dim = 1\n",
    "output_dim = 1\n",
    "n_layers = 2\n",
    "hidden_size = 20\n",
    "\n",
    "# Declare the RNN model\n",
    "model_rnn = RNNLinear(input_dim, output_dim, hidden_size, n_layers).to(device)\n",
    "\n",
    "# \n",
    "init_rnn_weights = copy.deepcopy(model_rnn.state_dict())\n",
    "\n",
    "# Use the RNN to predict the output of each input sequence prior to training\n",
    "# Ensure that the inputs and output are correct\n",
    "X = X.to(device)\n",
    "y_pred = model_rnn(X)\n",
    "print(\"Size of input data: {}\".format(X.shape)) # (seq_len, batch_size, input_size)\n",
    "print(\"Size of predictions: {}\".format(y_pred.shape)) # (batch_size, input_size)"
   ]
  },
  {
   "cell_type": "markdown",
   "metadata": {
    "colab_type": "text",
    "id": "jg8vsRduhPYH"
   },
   "source": [
    "## LSTM implementation\n",
    "\n",
    "We will now implement an LSTM using this PyTorch class [torch.nn.LSTM()](https://pytorch.org/docs/stable/nn.html?highlight=lstm#torch.nn.LSTM). Just like with the RNN, we will need to add a linear layer to transform the last recurrent state of our LSTM to have the same dimensions of our target `Y` which has size `(batch_size, input_size)` (with `input_size=1` as above). For additional information regarding the implementation of this class have look at [tutoriel](https://pytorch.org/tutorials/beginner/former_torchies/nn_tutorial.html#example-2-recurrent-net).\n",
    "\n",
    "To define the architecture of our LSTM, the following methods are to be completed:\n",
    "<ul>\n",
    "    <li>The `__init__()` method to define the different layers of our model.</li>\n",
    "<li>The `forward()` method method which uses the layers and the input variables and returns an output (this is effectively a *forward pass*). </li>\n",
    "</ul>\n",
    "\n",
    "**Nota bene**: \n",
    "\n",
    "* It can be puzzling to obtain the last recurrent state of the last hidden layer of an RNN, $h_{T}^{N}$, where $T$ is the last timestep and $N$ is the last hidden layer. It can be obtained by indexing one of these tensor as follows: `output[-1, :, :]` or `hidden_T[-1]`.\n",
    "\n",
    "* You must ensure that the dimensions of your input data `X` matches what is required by the RNN class [torch.nn.RNN()](https://pytorch.org/docs/stable/nn.html?highlight=rnn#rnn). *Hint* this method [tensor.transpose()](https://pytorch.org/docs/stable/tensors.html?highlight=transpose#torch.Tensor.transpose) can be useful.\n"
   ]
  },
  {
   "cell_type": "code",
   "execution_count": 15,
   "metadata": {
    "colab": {
     "base_uri": "https://localhost:8080/",
     "height": 54
    },
    "colab_type": "code",
    "id": "lqMaUDDVhPYH",
    "outputId": "2634cd46-dbc9-43f9-b053-92081a26941f"
   },
   "outputs": [
    {
     "name": "stdout",
     "output_type": "stream",
     "text": [
      "Dimensions initiales des données en entrée: torch.Size([1000, 4, 1])\n",
      "Dimensions des prédictions: torch.Size([1000, 1])\n"
     ]
    }
   ],
   "source": [
    "class LSTMLinear(nn.Module):\n",
    "    \n",
    "    def __init__(self, input_size, output_size, hidden_size, n_layers):\n",
    "        super(LSTMLinear, self).__init__()\n",
    "        \n",
    "        # To complete\n",
    "        \n",
    "    def forward(self, x):\n",
    "\n",
    "        # To complete\n",
    "        # Recall: The RNN's input must be of size (seq_len, batch_size, input_size)\n",
    "        \n",
    "        return pred\n",
    "    \n",
    "\n",
    "input_dim = 1\n",
    "output_dim = 1\n",
    "n_layers = 2\n",
    "hidden_size = 20\n",
    "\n",
    "# Declare the LSTM model\n",
    "model_lstm = LSTMLinear(input_dim, output_dim, hidden_size, n_layers).to(device)\n",
    "\n",
    "# Store the initial weights of the model\n",
    "init_lstm_weights = copy.deepcopy(model_lstm.state_dict())\n",
    "\n",
    "# Use the LSTM to predict the output of each input sequence prior to training\n",
    "# Ensure that the inputs and output are correct\n",
    "X = X.to(device)\n",
    "y_pred = model_lstm(X)\n",
    "print(\"Dimensions initiales des données en entrée: {}\".format(X.shape)) # (seq_len, batch_size, input_size)\n",
    "print(\"Dimensions des prédictions: {}\".format(y_pred.shape)) # (batch_size, input_size)"
   ]
  },
  {
   "cell_type": "markdown",
   "metadata": {
    "colab_type": "text",
    "id": "gdha8WWWhPXp"
   },
   "source": [
    "## Splitting the data into train/validation/test\n",
    "\n",
    "We will use PyTorch's DataLoader objects to efficiently manipulate our data. \n",
    "\n",
    "We will generate 20,000 sequences and use 80% of those for training, 10% for validation, and 10% for testing. We can use the following functions [torch.utils.data.TensorDataset()](https://pytorch.org/docs/stable/data.html) and [torch.utils.data.DataLoader()](https://pytorch.org/docs/stable/data.html) to prepare our Dataloader.\n",
    "\n",
    "Use the following values: \n",
    "\n",
    "`seq_len = 18` \n",
    "\n",
    "`batch_size = 64`\n",
    "\n",
    "`n_samples = 25000`"
   ]
  },
  {
   "cell_type": "code",
   "execution_count": 16,
   "metadata": {
    "code_folding": [],
    "colab": {},
    "colab_type": "code",
    "id": "PzSCKyyMhPXq"
   },
   "outputs": [],
   "source": [
    "from torch.utils.data import DataLoader, TensorDataset\n",
    "\n",
    "n_samples = 25000\n",
    "seq_len = 18\n",
    "batch_size = 64\n",
    "\n",
    "# To complete\n",
    "\n",
    "X, Y = ... # Generate data and standardize it\n",
    "\n",
    "\n",
    "xtrain, ytrain = X[:round(0.8*n_samples)], Y[:round(0.8*n_samples)]\n",
    "xvalid, yvalid = X[round(0.8*n_samples):round(0.9*n_samples)], Y[round(0.8*n_samples):round(0.9*n_samples)]\n",
    "xtest, ytest = X[round(0.9*n_samples):], Y[round(0.9*n_samples):]\n",
    "\n",
    "train_loader = DataLoader(TensorDataset(xtrain, ytrain),\n",
    "                          batch_size, shuffle=True)\n",
    "\n",
    "# To complete\n",
    "valid_loader = ...\n",
    "\n",
    "# To complete\n",
    "test_loader = ..."
   ]
  },
  {
   "cell_type": "markdown",
   "metadata": {
    "colab_type": "text",
    "id": "W8IdyMkZjRs7"
   },
   "source": [
    "## Training an RNN\n",
    "\n",
    "Several cost functions and optimizers can be used from PyTorch. "
   ]
  },
  {
   "cell_type": "markdown",
   "metadata": {
    "colab_type": "text",
    "id": "ow4dIMYT2gek"
   },
   "source": [
    "### Defining the cost and the optimizer\n",
    "\n",
    "Recall that a cost function  $J(\\theta) = L(x, y, \\theta)$ takes as input a prediction and the target and evaluates some distance (or discrepancy) between both.  For this example, we will use the mean squared error cost which is standard for regression problems (see [torch.nn.MSELoss()](https://pytorch.org/docs/stable/nn.html)):\n",
    "\n",
    "$J(\\cdot) = \\frac{1}{N}\\sum_{i=1}^{N} (\\hat{y}_{i} - y_i)^{2}$.\n",
    "\n",
    "\n",
    "To optimize the parameters of our networks we will use the *stochastic gradient descent* (SGD) optimizer. It minimizes the cost function $J(\\theta)$ parametrized by the networks' weights $\\theta$ by updating them using the following update rule: $\\theta \\leftarrow \\theta - \\alpha \\nabla J(\\theta)$, where  $\\alpha$ is the *learning rate*. The specificity of SGD is that it will calculate the gradient $\\nabla$ using a single (or a small number of) example(s) instead of the full training data.\n",
    "\n",
    "In PyTorch we will use <a href=\"http://pytorch.org/docs/master/optim.html#torch.optim.SGD\">`torch.optim.SGD()`</a> which is a SGD implementation. In this example, we will use a learning rate of 0.01."
   ]
  },
  {
   "cell_type": "code",
   "execution_count": 17,
   "metadata": {
    "colab": {},
    "colab_type": "code",
    "id": "6SidKvG6hPXu"
   },
   "outputs": [],
   "source": [
    "learning_rate = 0.01\n",
    "\n",
    "# To complete\n",
    "criterion = ...\n",
    "optimizer = ..."
   ]
  },
  {
   "cell_type": "markdown",
   "metadata": {
    "colab_type": "text",
    "id": "pBrLb8PdhPXw"
   },
   "source": [
    "### Training the model\n",
    "\n",
    "To train out model, we will use our `train_loader` object to iterate over our entire training sets *n_epoch* times. \n",
    "To measure progress we will store the validation cost at the end of each training *epoch*."
   ]
  },
  {
   "cell_type": "code",
   "execution_count": 18,
   "metadata": {
    "colab": {
     "base_uri": "https://localhost:8080/",
     "height": 545
    },
    "colab_type": "code",
    "id": "e9a-gjjVhPXx",
    "outputId": "bb537045-efd0-4691-d7b6-92215fdb190c",
    "scrolled": false
   },
   "outputs": [
    {
     "name": "stdout",
     "output_type": "stream",
     "text": [
      "Start training\n",
      "Epoch  1 | Training loss = 8.94425 | Validation loss = 3.35202 \n",
      "Epoch  2 | Training loss = 3.21347 | Validation loss = 2.04823 \n",
      "Epoch  3 | Training loss = 2.01104 | Validation loss = 1.11231 \n",
      "Epoch  4 | Training loss = 6.70822 | Validation loss = 9.61898 \n",
      "Epoch  5 | Training loss = 4.57141 | Validation loss = 4.72359 \n",
      "Epoch  6 | Training loss = 3.67430 | Validation loss = 1.52073 \n",
      "Epoch  7 | Training loss = 3.90616 | Validation loss = 1.95270 \n",
      "Epoch  8 | Training loss = 2.14970 | Validation loss = 1.09816 \n",
      "Epoch  9 | Training loss = 1.54088 | Validation loss = 0.70279 \n",
      "Epoch 10 | Training loss = 1.32599 | Validation loss = 2.02014 \n",
      "Epoch 11 | Training loss = 1.28169 | Validation loss = 0.57678 \n",
      "Epoch 12 | Training loss = 1.01451 | Validation loss = 0.56513 \n",
      "Epoch 13 | Training loss = 0.79373 | Validation loss = 2.41699 \n",
      "Epoch 14 | Training loss = 0.89427 | Validation loss = 0.44529 \n",
      "Epoch 15 | Training loss = 0.69761 | Validation loss = 0.84663 \n",
      "Epoch 16 | Training loss = 0.59522 | Validation loss = 0.39104 \n",
      "Epoch 17 | Training loss = 0.68214 | Validation loss = 0.46942 \n",
      "Epoch 18 | Training loss = 0.63042 | Validation loss = 0.73973 \n",
      "Epoch 19 | Training loss = 0.46434 | Validation loss = 0.32031 \n",
      "Epoch 20 | Training loss = 0.51622 | Validation loss = 0.24956 \n",
      "Epoch 21 | Training loss = 0.37946 | Validation loss = 0.23940 \n",
      "Epoch 22 | Training loss = 0.40806 | Validation loss = 0.32260 \n",
      "Epoch 23 | Training loss = 0.43845 | Validation loss = 0.16494 \n",
      "Epoch 24 | Training loss = 0.32409 | Validation loss = 0.19206 \n",
      "Epoch 25 | Training loss = 0.33482 | Validation loss = 0.20047 \n",
      "\n",
      "\n",
      "Training complete in 0m 37s\n"
     ]
    }
   ],
   "source": [
    "# To complete\n",
    "\n",
    "since = time.time()\n",
    "\n",
    "\n",
    "train_loss_history = []\n",
    "valid_loss_history = []\n",
    "\n",
    "n_epoch = 25\n",
    "\n",
    "model_rnn.load_state_dict(init_rnn_weights)\n",
    "\n",
    "print(\"Start training\")\n",
    "\n",
    "for epoch in range(n_epoch):\n",
    "    \n",
    "    train_loss = 0\n",
    "    train_n_iter = 0\n",
    "    \n",
    "    # Set model to train mode\n",
    "    \n",
    "    # Iterate over train data\n",
    "    for x, y in train_loader:  \n",
    "\n",
    "        \n",
    "        # Put tensors on device (GPU when available)\n",
    "        ... \n",
    "        \n",
    "        # Zero the gradient buffer\n",
    "        ...\n",
    "        \n",
    "        # Forward\n",
    "        outputs = ...\n",
    "        \n",
    "        # Calculate loss\n",
    "        loss = criterion(...)\n",
    "        \n",
    "        # Backward\n",
    "        ...\n",
    "        \n",
    "        # Optimize\n",
    "        ...\n",
    "        \n",
    "        # Statistics\n",
    "        train_loss += loss.item()\n",
    "        train_n_iter += 1\n",
    "    \n",
    "    valid_loss = 0\n",
    "    valid_n_iter = 0\n",
    "    \n",
    "    # Set model to evaluate mode\n",
    "    ...\n",
    "    \n",
    "    # Iterate over valid data\n",
    "    for x, y in valid_loader:  \n",
    "        \n",
    "        # Put tensors on device (GPU when available)\n",
    "        ...\n",
    "        \n",
    "        # Forward\n",
    "        outputs = ...\n",
    "        \n",
    "        loss = criterion(...)\n",
    "        \n",
    "        # Statistics\n",
    "        valid_loss += loss.item()\n",
    "        valid_n_iter += 1\n",
    "    \n",
    "    train_loss_history.append(train_loss / train_n_iter)\n",
    "    valid_loss_history.append(valid_loss / valid_n_iter)\n",
    "\n",
    "\n",
    "    print(\"Epoch {:2d} | Training loss = {:.5f} | Validation loss = {:.5f} \"\n",
    "          .format(epoch+1, (train_loss / train_n_iter), (valid_loss / valid_n_iter)))\n",
    "\n",
    "time_elapsed = time.time() - since\n",
    "\n",
    "print('\\n\\nTraining complete in {:.0f}m {:.0f}s'.format(\n",
    "    time_elapsed // 60, time_elapsed % 60))"
   ]
  },
  {
   "cell_type": "markdown",
   "metadata": {
    "colab_type": "text",
    "id": "wr4at5nVhPXz"
   },
   "source": [
    "### Visualizing training curves \n",
    "\n",
    "Visualize the training curves using a graph of the cost function vs. epochs for both the training and the validation data."
   ]
  },
  {
   "cell_type": "code",
   "execution_count": 19,
   "metadata": {
    "colab": {
     "base_uri": "https://localhost:8080/",
     "height": 279
    },
    "colab_type": "code",
    "id": "bJLu-rC_hPX1",
    "outputId": "1d0a653b-415d-4e44-eb6c-ea42426faf0c"
   },
   "outputs": [
    {
     "data": {
      "image/png": "[encoded data removed]",
      "text/plain": [
       "<Figure size 432x288 with 1 Axes>"
      ]
     },
     "metadata": {
      "needs_background": "light"
     },
     "output_type": "display_data"
    }
   ],
   "source": [
    "# Save history for later\n",
    "rnn_train_loss_history = train_loss_history\n",
    "rnn_valid_loss_history = valid_loss_history\n",
    "\n",
    "# Plot training and validation curve\n",
    "xaxis = range(1, n_epoch + 1)\n",
    "plt.plot(xaxis, rnn_train_loss_history, label='train-rnn')\n",
    "plt.plot(xaxis, rnn_valid_loss_history, label='valid-rnn')\n",
    "\n",
    "plt.xlabel('# epochs')\n",
    "plt.ylabel('Loss')\n",
    "plt.legend()\n",
    "\n",
    "plt.show()"
   ]
  },
  {
   "cell_type": "markdown",
   "metadata": {
    "colab_type": "text",
    "id": "Vi7bHNzykdby"
   },
   "source": [
    "## Training an LSTM"
   ]
  },
  {
   "cell_type": "markdown",
   "metadata": {
    "colab_type": "text",
    "id": "2RUJdIy72rZu"
   },
   "source": [
    "(This cell is reproduced from the equivalent RNN one above, skip if you have read/understood that one.)\n",
    "\n",
    "### Defining the cost and the optimizer\n",
    "\n",
    "Recall that a cost function  $J(\\theta) = L(x, y, \\theta)$ takes as input a prediction and the target and evaluates some distance (or discrepancy) between both.  For this example, we will use the mean squared error cost which is standard for regression problems (see [torch.nn.MSELoss()](https://pytorch.org/docs/stable/nn.html)):\n",
    "\n",
    "$J(\\cdot) = \\frac{1}{N}\\sum_{i=1}^{N} (\\hat{y}_{i} - y_i)^{2}$.\n",
    "\n",
    "\n",
    "To optimize the parameters of our networks we will use the *stochastic gradient descent* (SGD) optimizer. It minimizes the cost function $J(\\theta)$ parametrized by the networks' weights $\\theta$ by updating them using the following update rule: $\\theta \\leftarrow \\theta - \\alpha \\nabla J(\\theta)$, where  $\\alpha$ is the *learning rate*. The specificity of SGD is that ti will calculate the gradient $\\nabla$ using a single (or a small number of) example(s) instead of the full training data.\n",
    "\n",
    "In PyTorch we will use <a href=\"http://pytorch.org/docs/master/optim.html#torch.optim.SGD\">`torch.optim.SGD()`</a> which is a SGD implementation. In this example, we will use a learning rate of 0.01."
   ]
  },
  {
   "cell_type": "code",
   "execution_count": 20,
   "metadata": {
    "colab": {},
    "colab_type": "code",
    "id": "pOZIqkBbpmeo"
   },
   "outputs": [],
   "source": [
    "# To complete\n",
    "criterion = ...\n",
    "optimizer = ..."
   ]
  },
  {
   "cell_type": "markdown",
   "metadata": {
    "colab_type": "text",
    "id": "qqnTlRq8pmew"
   },
   "source": [
    "### Training the model\n",
    "\n",
    "To train out model, we will use our `train_loader` object to iterate over our entire training sets *n_epoch* times. \n",
    "To measure progress we will store the validation cost at the end of each training *epoch*."
   ]
  },
  {
   "cell_type": "code",
   "execution_count": 21,
   "metadata": {
    "colab": {
     "base_uri": "https://localhost:8080/",
     "height": 545
    },
    "colab_type": "code",
    "id": "odcwM6DyhPYL",
    "outputId": "a548e4ab-25b2-4e14-f3c1-74227ae97166"
   },
   "outputs": [
    {
     "name": "stdout",
     "output_type": "stream",
     "text": [
      "# Start training #\n",
      "Epoch  1 | Training loss = 17.85095 | Validation loss = 17.70797 \n",
      "Epoch  2 | Training loss = 6.09500 | Validation loss = 1.60636 \n",
      "Epoch  3 | Training loss = 1.49359 | Validation loss = 0.81062 \n",
      "Epoch  4 | Training loss = 0.64184 | Validation loss = 0.26455 \n",
      "Epoch  5 | Training loss = 0.47949 | Validation loss = 0.33894 \n",
      "Epoch  6 | Training loss = 0.36103 | Validation loss = 0.53644 \n",
      "Epoch  7 | Training loss = 0.34194 | Validation loss = 0.15094 \n",
      "Epoch  8 | Training loss = 0.24848 | Validation loss = 0.30115 \n",
      "Epoch  9 | Training loss = 0.21084 | Validation loss = 0.09204 \n",
      "Epoch 10 | Training loss = 0.19522 | Validation loss = 0.41419 \n",
      "Epoch 11 | Training loss = 0.16718 | Validation loss = 0.05944 \n",
      "Epoch 12 | Training loss = 0.16016 | Validation loss = 0.05129 \n",
      "Epoch 13 | Training loss = 0.14010 | Validation loss = 0.11142 \n",
      "Epoch 14 | Training loss = 0.10867 | Validation loss = 0.48988 \n",
      "Epoch 15 | Training loss = 0.12079 | Validation loss = 0.04461 \n",
      "Epoch 16 | Training loss = 0.09276 | Validation loss = 0.13373 \n",
      "Epoch 17 | Training loss = 0.09593 | Validation loss = 0.15664 \n",
      "Epoch 18 | Training loss = 0.08470 | Validation loss = 0.02725 \n",
      "Epoch 19 | Training loss = 0.07453 | Validation loss = 0.02499 \n",
      "Epoch 20 | Training loss = 0.05818 | Validation loss = 0.13851 \n",
      "Epoch 21 | Training loss = 0.05989 | Validation loss = 0.18455 \n",
      "Epoch 22 | Training loss = 0.07267 | Validation loss = 0.12572 \n",
      "Epoch 23 | Training loss = 0.05952 | Validation loss = 0.04904 \n",
      "Epoch 24 | Training loss = 0.05480 | Validation loss = 0.01633 \n",
      "Epoch 25 | Training loss = 0.06756 | Validation loss = 0.10727 \n",
      "\n",
      "\n",
      "Training complete in 1m 55s\n"
     ]
    }
   ],
   "source": [
    "# To complete\n",
    "\n",
    "since = time.time()\n",
    "\n",
    "\n",
    "train_loss_history = []\n",
    "valid_loss_history = []\n",
    "\n",
    "num_epochs = 25\n",
    "\n",
    "model_lstm.load_state_dict(init_lstm_weights)\n",
    "\n",
    "print(\"# Start training #\")\n",
    "\n",
    "for epoch in range(num_epochs):\n",
    "    \n",
    "    train_loss = 0\n",
    "    train_n_iter = 0\n",
    "    \n",
    "    # Set model to train mode\n",
    "    ...\n",
    "    \n",
    "    # Iterate over train data\n",
    "    for x, y in train_loader:  \n",
    "\n",
    "        \n",
    "        # Put tensors on device (GPU when available)\n",
    "        ...\n",
    "\n",
    "        # Zero the gradient buffer\n",
    "        ...\n",
    "        \n",
    "        # Forward\n",
    "        ...\n",
    "        \n",
    "        # Calculate loss\n",
    "        loss = criterion(...)\n",
    "        \n",
    "        # Backward\n",
    "        ...\n",
    "        \n",
    "        # Optimize\n",
    "        ...\n",
    "        \n",
    "        # Statistics\n",
    "        train_loss += loss.item()\n",
    "        train_n_iter += 1\n",
    "    \n",
    "    valid_loss = 0\n",
    "    valid_n_iter = 0\n",
    "    \n",
    "    # Set model to evaluate mode\n",
    "    ...\n",
    "    \n",
    "    # Iterate over valid data\n",
    "    for x, y in valid_loader:  \n",
    "        \n",
    "        # Put tensors on device (GPU when available)\n",
    "        ...\n",
    "        \n",
    "        # Forward\n",
    "        outputs = ...\n",
    "        \n",
    "        loss = ...\n",
    "        \n",
    "        # Statistics\n",
    "        valid_loss += loss.item()\n",
    "        valid_n_iter += 1\n",
    "    \n",
    "    train_loss_history.append(train_loss / train_n_iter)\n",
    "    valid_loss_history.append(valid_loss / valid_n_iter)\n",
    "    \n",
    "    print(\"Epoch {:2d} | Training loss = {:.5f} | Validation loss = {:.5f} \"\n",
    "          .format(epoch+1, (train_loss / train_n_iter), (valid_loss / valid_n_iter)))\n",
    "\n",
    "time_elapsed = time.time() - since\n",
    "\n",
    "print('\\n\\nTraining complete in {:.0f}m {:.0f}s'.format(\n",
    "    time_elapsed // 60, time_elapsed % 60))"
   ]
  },
  {
   "cell_type": "markdown",
   "metadata": {
    "colab_type": "text",
    "id": "aMEzsqBaqGmh"
   },
   "source": [
    "### Visualizing training curves \n",
    "\n",
    "Visualize the training curves using a graph of the cost function vs. epochs for both the training and the validation data."
   ]
  },
  {
   "cell_type": "code",
   "execution_count": 22,
   "metadata": {
    "colab": {
     "base_uri": "https://localhost:8080/",
     "height": 279
    },
    "colab_type": "code",
    "id": "4Rw1tIfMhPYN",
    "outputId": "975035ea-6c59-40e7-d87d-fd4164d71211"
   },
   "outputs": [
    {
     "data": {
      "image/png": "[encoded data removed]",
      "text/plain": [
       "<Figure size 432x288 with 1 Axes>"
      ]
     },
     "metadata": {
      "needs_background": "light"
     },
     "output_type": "display_data"
    }
   ],
   "source": [
    "# Save history for later\n",
    "lstm_train_loss_history = train_loss_history\n",
    "lstm_valid_loss_history = valid_loss_history\n",
    "\n",
    "# Plot training and validation curve\n",
    "xaxis = range(1, num_epochs + 1)\n",
    "plt.plot(xaxis, lstm_train_loss_history, label='train-lstm')\n",
    "plt.plot(xaxis, lstm_valid_loss_history, label='valid-lstm')\n",
    "\n",
    "plt.xlabel('# epochs')\n",
    "plt.ylabel('Loss')\n",
    "plt.legend()\n",
    "\n",
    "plt.show()"
   ]
  },
  {
   "cell_type": "markdown",
   "metadata": {
    "colab_type": "text",
    "id": "7PCowiQxpcHv"
   },
   "source": [
    "## Analyzing the results\n",
    "\n",
    "We will now compare the RNN and the LSTM using their performance on train/validation and test sets."
   ]
  },
  {
   "cell_type": "markdown",
   "metadata": {
    "colab_type": "text",
    "id": "KaoQgOOZKL98"
   },
   "source": [
    "### Comparing training curves\n",
    "\n",
    "\n",
    "Compare the training curves using a graph of the cost function vs. epochs for both the training and the validation data."
   ]
  },
  {
   "cell_type": "code",
   "execution_count": 23,
   "metadata": {
    "colab": {
     "base_uri": "https://localhost:8080/",
     "height": 284
    },
    "colab_type": "code",
    "id": "yl8hcNhnKKOS",
    "outputId": "8b1ae5b0-4138-4c63-f8b9-d117070e5842"
   },
   "outputs": [
    {
     "data": {
      "image/png": "[encoded data removed]",
      "text/plain": [
       "<Figure size 432x288 with 1 Axes>"
      ]
     },
     "metadata": {
      "needs_background": "light"
     },
     "output_type": "display_data"
    }
   ],
   "source": [
    "# Plot training and validation curve\n",
    "xaxis = range(1, num_epochs + 1)\n",
    "\n",
    "plt.plot(xaxis, rnn_train_loss_history, label='train-rnn')\n",
    "plt.plot(xaxis, rnn_valid_loss_history, label='valid-rnn')\n",
    "\n",
    "plt.plot(xaxis, lstm_train_loss_history, label='train-lstm', linestyle='--')\n",
    "plt.plot(xaxis, lstm_valid_loss_history, label='valid-lstm', linestyle='--')\n",
    "\n",
    "plt.xlabel('# epochs')\n",
    "plt.ylabel('Loss')\n",
    "plt.legend()\n",
    "plt.ylim([0,2])\n",
    "plt.show()"
   ]
  },
  {
   "cell_type": "markdown",
   "metadata": {
    "colab_type": "text",
    "id": "BhGBAmabKr8A"
   },
   "source": [
    "Note that there is a different between the RNN and LSTM results.\n",
    "\n",
    "**Questions**\n",
    "\n",
    "*   Which network works best according to validation? Why is that? \n",
    "*   What is the most important different between both networks? \n",
    "*   What factors determine the smoothness of the curves? \n",
    "\n"
   ]
  },
  {
   "cell_type": "markdown",
   "metadata": {
    "colab_type": "text",
    "id": "SeWGSfEOLdsM"
   },
   "source": [
    "### Evaluating test error\n",
    "\n",
    "Evaluate and print the mean squared error on the test set for both models."
   ]
  },
  {
   "cell_type": "code",
   "execution_count": 27,
   "metadata": {
    "colab": {
     "base_uri": "https://localhost:8080/",
     "height": 54
    },
    "colab_type": "code",
    "id": "72z2Xob3MRYB",
    "outputId": "4559f61c-4cfb-441c-e8ed-58388f1f3891"
   },
   "outputs": [
    {
     "name": "stdout",
     "output_type": "stream",
     "text": [
      "The RNN's test mean squared error is 0.210\n",
      "The LSTM's trest mean squared error is 0.113\n"
     ]
    }
   ],
   "source": [
    "# To complete\n",
    "\n",
    "# Put data on device (GPU when available)\n",
    "xtest = ...\n",
    "ytest = ...\n",
    "\n",
    "ypred_rnn = ...\n",
    "ypred_lstm = ...\n",
    "\n",
    "loss_test_rnn = ...\n",
    "loss_test_lstm = ...\n",
    "\n",
    "\n",
    "print(\"The RNN's test mean squared error is %2.3f\" % float(loss_test_rnn))\n",
    "print(\"The LSTM's trest mean squared error is %2.3f\" % float(loss_test_lstm))"
   ]
  },
  {
   "cell_type": "markdown",
   "metadata": {
    "colab_type": "text",
    "id": "AmJDgK04NDVQ"
   },
   "source": [
    "\n",
    "**Question**\n",
    "\n",
    "*   Are test and validation results comparable? \n"
   ]
  },
  {
   "cell_type": "markdown",
   "metadata": {
    "colab_type": "text",
    "id": "hPZH71eCpcH0"
   },
   "source": [
    "### Further exploring the results\n",
    "\n",
    "To gain insights into our models we will inspect their outputs (i.e., their predictions before calculating the cost). To help us we will define a `print_sequence()` function. \n",
    "\n",
    "This function takes as input the tensors X and Y, samples a particular entry (sequence), prints the entry and prints the absolute difference between the true Y and the predicted Y.\n",
    "\n",
    "Recall that we have standardized our examples. For these visualizations we wish to use the original data pre-standardization. To do so, we use `mean` + `std` such that $xtest\\_unstd = xtest*std + mean$ et $ytest\\_unstd = ytest*std+seq\\_len*mean$.\n"
   ]
  },
  {
   "cell_type": "code",
   "execution_count": 32,
   "metadata": {
    "colab": {},
    "colab_type": "code",
    "id": "QfCvsGXNpcH2"
   },
   "outputs": [],
   "source": [
    "def print_sequence(X, Y, idx=0):\n",
    "    \"\"\"Print ground truth sum and predicted values.\n",
    "    Args:\n",
    "      X: torch.Tensor.\n",
    "      Y: torch.Tensor.\n",
    "      idx: index of the sequence (entry) to use.\n",
    "    \"\"\"\n",
    "    x = X[idx].numpy()\n",
    "    y = Y[idx].numpy()\n",
    "    for i, xi in enumerate(x):\n",
    "        if i==0:\n",
    "            string = str(xi[0]) \n",
    "        else:\n",
    "            string += \" + \" + str(xi[0])\n",
    "            \n",
    "    print(\"Sequence: \", string)\n",
    "    print(\"Prediction: \", str(y[0]))\n",
    "    print(\"Ground truth value: \", str(np.sum(x)))\n",
    "    diff = abs(np.sum(x)-y[0])\n",
    "    print(\"Absolute error between X[{a}] et Y[{a}]: {b}\".format(a=idx, b=diff))"
   ]
  },
  {
   "cell_type": "code",
   "execution_count": 33,
   "metadata": {
    "colab": {
     "base_uri": "https://localhost:8080/",
     "height": 235
    },
    "colab_type": "code",
    "id": "_aDw139hpcH_",
    "outputId": "e680663c-e426-4018-e831-ee3a7faa674f"
   },
   "outputs": [
    {
     "name": "stdout",
     "output_type": "stream",
     "text": [
      "\n",
      "Example RNN:\n",
      "\n",
      "Sequence:  71.0 + -93.0 + 67.0 + 91.0 + -37.0 + -52.0 + -38.0 + -9.0 + -73.0 + 23.0 + 69.0 + 97.0 + -9.0 + 17.0 + 91.0 + 40.0 + 46.0 + 0.0\n",
      "Prediction:  280.76157\n",
      "Ground truth value:  301.0\n",
      "Absolute error between X[657] et Y[657]: 20.238433837890625\n",
      "\n",
      "Example LSTM:\n",
      "\n",
      "Sequence:  71.0 + -93.0 + 67.0 + 91.0 + -37.0 + -52.0 + -38.0 + -9.0 + -73.0 + 23.0 + 69.0 + 97.0 + -9.0 + 17.0 + 91.0 + 40.0 + 46.0 + 0.0\n",
      "Prediction:  279.6105\n",
      "Ground truth value:  301.0\n",
      "Absolute error between X[657] et Y[657]: 21.389495849609375\n"
     ]
    }
   ],
   "source": [
    "xtest = xtest.cpu()\n",
    "ypred_rnn = ypred_rnn.cpu()\n",
    "\n",
    "# To complete\n",
    "xtest_unstd = ...\n",
    "ypred_unstd = ...\n",
    "\n",
    "idx = np.random.randint(len(ytest))\n",
    "\n",
    "\n",
    "print(\"\")\n",
    "print(\"Example RNN:\")\n",
    "print(\"\")\n",
    "\n",
    "print_sequence(xtest_unstd.detach(), ypred_unstd.detach(), idx=idx)\n",
    "\n",
    "\n",
    "\n",
    "xtest = xtest.cpu()\n",
    "ypred_lstm = ypred_lstm.cpu()\n",
    "\n",
    "xtest_unstd = xtest*std + mean\n",
    "ypred_unstd = ypred_lstm*std + seq_len*mean\n",
    "\n",
    "print(\"\")\n",
    "print(\"Example LSTM:\")\n",
    "print(\"\")\n",
    "\n",
    "print_sequence(xtest_unstd.detach(), ypred_unstd.detach(), idx=idx)"
   ]
  },
  {
   "cell_type": "markdown",
   "metadata": {
    "colab_type": "text",
    "id": "tAM5UeILQb5l"
   },
   "source": [
    "** Bonus questions**\n",
    "\n",
    "* Can you suggest modifications to improve the results of the LSTM?\n",
    "* Redo the above analysis but instead of summing the input values try other operations (e.g., -, x, /, ...)\n",
    "* Compare the performance of the RNN and the LSTM for sequences of different length (i.e., change `seq_len`)"
   ]
  },
  {
   "cell_type": "markdown",
   "metadata": {
    "colab_type": "text",
    "id": "Y1jHLBHErzbW"
   },
   "source": [
    "---\n",
    "# Task 2: Neural language model\n"
   ]
  },
  {
   "cell_type": "markdown",
   "metadata": {
    "colab_type": "text",
    "id": "h7kMH3bm1ZDz"
   },
   "source": [
    "## Objective\n",
    "\n",
    "The objective of the second part of the tutorial is to learn about text generation using recurrent neural networks. In particular, we will learn a recurrent neural network using a small amount of textual data written by [Shakespeare]https://en.wikipedia.org/wiki/William_Shakespeare). Once this model is trained, we will use it to generate new text in the style of Shakespeare.\n",
    "\n",
    "**Note** that people often use the term RNN even when training an LSTM. RNN has become the generic term regardless of the type (in addition to LSTMs that are other variants that are commonly used such as [Gated Recurrent Units (GRUs)](http://colah.github.io/posts/2015-08-Understanding-LSTMs/)).\n",
    "\n",
    "The model we will use is a bit more complex than the one for task 1. Contrary to the previous section, all code is provided (i.e., there are no exercises to complete). We suggest you go through all of the code to ensure that you understand both its logic as it relates to text processing but also how to design and train an RNN for text generation. The code could be relatively easily adapted to other tasks that you may care about. \n",
    "\n",
    "Further, this notebook also contains some of the data pre-processing steps, in particular the ones that take our dataset and arranges it such that it can be used to learn a neural language model based on LSTMs.  \n",
    "\n",
    "Happy generation!"
   ]
  },
  {
   "cell_type": "markdown",
   "metadata": {
    "colab_type": "text",
    "id": "-TECjbTm3L20"
   },
   "source": [
    "## A bit more context to understand language modelling\n",
    "(this was already covered in class)\n",
    "\n",
    "A sequence of words $\\mathbf{s}$ can be represented as a sequence of $N$ discrete symbols (or lexical tokens) such that $\\mathbf{s} = (w_{1}, \\dots, w_{N})$, where $w_{t}$ is a word or a punctation mark. Each symbol can be represented by an integer corresponding to its index in the vocabulary $V$. $V$ contains all symbols for a particular task (the vocabulary is usually built from the dataset we use for a task). The objective of a language model is to estimate the (joint) probability of a sequence $p(\\mathbf{s}) = p(w_{1}, \\dots, w_{N})$, which can be decomposed as a product of conditional probabilities such that:\n",
    "\n",
    "\\begin{equation}\n",
    "  p(\\mathbf{s}) = \\prod^{N}_{t=1} p(w_{t} | w_{1}, \\dots, w_{t-1}).\n",
    "\\end{equation}\n",
    "(this is also known as the chain rule in probability theory)\n",
    "\n",
    "This is important for modelling. In particular, instead of modelling the joint distribution directly, we can \"simply\" model each conditional. That is we can model the probability of the next word given all previous words ($p(w_{t} | w_{<t})$). Language models do just that and are widely used across numerous applications (including in automatic translation, speech recognition, and information retrieval). Note that this can be understood as a multi-class classification problem where the classes corresponds to the different words.\n",
    "\n",
    "However, modelling each conditional is not easy. Instead we perform an approximation which makes the problem easier. The intuition behind the approximation is that instead of conditioning of the whole history we condition on a smaller history ($w_{t-1}, w_{t-2}, \\ldots, w_{t-n}$) to predict the next word ($w_{t}$). This is also known as a $n-1$-order Markov assumption. Mathematically it is:\n",
    "\\begin{equation}\n",
    "  p(w_{t} | w_{1}, \\dots, w_{t-1}) \\approx p(w_{t} | w_{t-n+1}, \\dots, w_{t-1}).\n",
    "\\end{equation}\n",
    "\n",
    "In the next paragraph we explain how to model the above conditionals using a recurrent neural network. \n",
    "\n",
    "The architecture of the neural language model we use is an LSTM networks which will learn at each timestep a conditional distribution of the next word using a number of previous words.\n",
    "To train its parameters, we first need to set the maximum number $n-1$ of previous words to consider (`seq_len` in the code)--this is the effective size of your history--for training $p(w_{t} | w_{t-n+1}, \\dots, w_{t-1})$. The input to the LSTM at each time step is: 1) the $t$'th word $w_t$ encoded using its *word embedding* (see below); 2) the recurrent state ($mathbf{h}_{t-1}$); and 3) the state of the memory at the previous timestep ($\\mathbf{c}_{t-1}$).\n",
    "\n",
    "In addition the output of the LSTM at each step is the next word $w_{t+1}$, that is we train the LSTM to predict the next word at each step (in details the LSTM will actually predict the probability of that next word). This also implies that once this model is trained we will be able to use it to generate text (we will simply pick the word with the highest probability and feed it as the input to the next step). This type of model is commonly known as an *LSTM-based neural network model*. Its architecture is shown below:\n",
    "\n",
    "![alt-text](https://github.com/nextai-mtl/tech-2019/blob/master/images/autoregressive_english.png?raw=true)\n",
    "\n",
    "To compute the probability over all next words we simply use a *softmax* activation function. The softmax function returns a normalized $|V|$-dimensional vector, where each entry corresponds to a single word in the vocabulary. Each entry can be understood as the \"probability\" that the next word should the word at this index.\n",
    "\n",
    "### Word Embeddings\n",
    "\n",
    "The main question that remains is how exactly to encode the words at each timestep. \n",
    "Since the input data to a neural network must be encodable in a matrix, each symbol (word) $w_t$ in the vocabulary can be represented as a *one-hot* vector $\\mathbf{x}_i$ which is a vector of zeros with a single 1 at the position of the index of this word in the vocabulary. These one-hot vectors are multiplied by a weight matrix $\\mathbf{E} \\in \\mathbb R^{|V| \\times d_{e}}$. This matrix is learned and is known as the *embedding matrix*, $\\mathbf{E} \\in \\mathbb R^{|V| \\times d_{e}}$, it effectively encodes words in a continuous representation: $\\mathbf{w}_{t} \\in \\mathbb R^{d_{e}}$.\n",
    "\n",
    "Using word embeddings, a sequence of words can therefore be represented a sequence of size-$N$ vectors $\\mathbf{s} = (\\mathbf{w}_{1}, \\dots, \\mathbf{w}_{N})$. Each line $i$ of this matrix $\\mathbf{E}$ is a representation in $d_{e}$ dimensions of the $i$'th word in the vocabulary $V$. As we said above, these representations are often called *word embeddings*. When they are learned from a large enough dataset, they can represent semantic similarity. [For more information regarding word embeddings](http://ruder.io/word-embeddings-1/index.html)."
   ]
  },
  {
   "cell_type": "markdown",
   "metadata": {
    "colab_type": "text",
    "id": "u1Sh2OG46_Ln"
   },
   "source": [
    "## Utility functions for processing text and data structuring"
   ]
  },
  {
   "cell_type": "markdown",
   "metadata": {
    "colab_type": "text",
    "id": "sf7luc-Di7qO"
   },
   "source": [
    "To train our neural language model we will use a dataset (corpus) of the works of Shakespeare (we used a subset from this link [https://norvig.com/ngrams/] which was cleaned, tokenized and standardized) available in the file `shakespeare_top20K.txt`.\n",
    "\n",
    "To obtain reasonable results in practice we should train a language model using a very-large quantity of text. In this tutorial, we will use a relatively small corpus of 20000 sentences, 159884 tokens, and a vocabulary of 12354 tokens. A token is a lexical unit separated by a whitespace on each side in the text. In our case, a token is a word, a number or a punctuation mark. The vocabulary is the set of all tokens in a corpus. (Of course, our code generalizes to larger datasets.)"
   ]
  },
  {
   "cell_type": "code",
   "execution_count": 0,
   "metadata": {
    "colab": {
     "base_uri": "https://localhost:8080/",
     "height": 108
    },
    "colab_type": "code",
    "id": "yo7yRlDyK7DA",
    "outputId": "f3ddb94a-dd8c-4df8-8c10-5d704db2f536"
   },
   "outputs": [
    {
     "name": "stdout",
     "output_type": "stream",
     "text": [
      "Cloning into 'ecole_dl_mila_ivado_2018_10'...\n",
      "remote: Enumerating objects: 214, done.\u001b[K\n",
      "remote: Total 214 (delta 0), reused 0 (delta 0), pack-reused 214\u001b[K\n",
      "Receiving objects: 100% (214/214), 3.78 MiB | 2.95 MiB/s, done.\n",
      "Resolving deltas: 100% (73/73), done.\n"
     ]
    }
   ],
   "source": [
    "# Clone the git repo to obtain the data\n",
    "!git clone https://github.com/nextai-mtl/tech-2019.git"
   ]
  },
  {
   "cell_type": "code",
   "execution_count": 37,
   "metadata": {
    "colab": {},
    "colab_type": "code",
    "id": "0pjv24-kr528"
   },
   "outputs": [],
   "source": [
    "START_VOCAB = [\"_UNK\"]\n",
    "UNK_ID = 0\n",
    "DEVICE = torch.device(\"cuda:0\" if torch.cuda.is_available() else \"cpu\")"
   ]
  },
  {
   "cell_type": "code",
   "execution_count": 38,
   "metadata": {
    "colab": {},
    "colab_type": "code",
    "id": "_sdH5sXVsDgU"
   },
   "outputs": [],
   "source": [
    "def create_vocabulary(corpus_path, vocab_path, max_vocab_size=1e5):\n",
    "    \"\"\"Create and save the vocabulary of a corpus.\"\"\"\n",
    "    vocab = {}\n",
    "    with open(corpus_path, \"r\", encoding=\"utf-8\") as f:\n",
    "        for line in f:\n",
    "            tokens = line.strip().split()\n",
    "            for token in tokens:\n",
    "                if token in vocab:\n",
    "                    vocab[token] += 1\n",
    "                else:\n",
    "                    vocab[token] = 1\n",
    "    vocab_list = START_VOCAB + sorted(vocab, key=vocab.get, reverse=True)\n",
    "    if len(vocab_list) > max_vocab_size:\n",
    "        vocab_list = vocab_list[:max_vocab_size]\n",
    "    with open(vocab_path, \"w\", encoding=\"utf-8\") as f:\n",
    "        for token in vocab_list:\n",
    "              f.write(token + \"\\n\")\n",
    "\n",
    "\n",
    "def initialize_vocabulary(vocab_path):\n",
    "    \"\"\"Initialize the vocabulary.\"\"\"\n",
    "    if os.path.exists(vocab_path):\n",
    "        with open(vocab_path, \"r\", encoding=\"utf-8\") as f:\n",
    "            rev_vocab = [line.strip() for line in f.readlines()]\n",
    "        vocab = dict([(w, i) for (i, w) in enumerate(rev_vocab)])\n",
    "        return vocab, rev_vocab\n",
    "    else:\n",
    "        raise ValueError(\"Vocabulary file {} not found.\".format(vocab_path))\n",
    "\n",
    "\n",
    "def read_corpus(corpus_path):\n",
    "    \"\"\"Read and convert a corpus in a list of tokens.\"\"\"\n",
    "    with open(corpus_path, \"r\", encoding=\"utf-8\") as f:\n",
    "        corpus = f.read().split()\n",
    "    return corpus\n",
    "\n",
    "\n",
    "def corpus_to_token_ids(corpus, vocab):\n",
    "    \"\"\"Convert a corpus in token-ids.\"\"\"\n",
    "    token_ids = [vocab.get(token, UNK_ID) for token in corpus]\n",
    "    return token_ids\n",
    "\n",
    "\n",
    "def batch_data(data, batch_size):\n",
    "    \"\"\"Structure the data in bath_size continuous sequences.\"\"\"\n",
    "    n_batch = len(data) // batch_size\n",
    "    data = np.array(data[:n_batch*batch_size])\n",
    "    data = data.reshape(batch_size, -1).T\n",
    "    return data\n",
    "\n",
    "\n",
    "def detach_hidden(hidden):\n",
    "    \"\"\"Transform the data from the hidden states of the LSTM\n",
    "       into a new Tensor with require_grad=False.\"\"\"\n",
    "    return tuple(h.detach() for h in hidden)"
   ]
  },
  {
   "cell_type": "code",
   "execution_count": 56,
   "metadata": {},
   "outputs": [
    {
     "name": "stdout",
     "output_type": "stream",
     "text": [
      "Number of tokens in the corpus: 159884\n",
      "\n",
      "Size of vocabulary: 12354\n",
      "\n",
      "Top 20 most frequent tokens in the corpus: \n",
      "[',', '.', 'the', 'I', ';', 'and', 'to', 'of', 'you', 'a', ':', 'in', '?', 'my', 'is', 'that', '!', 'not', 'it', 'me']\n",
      "\n",
      "First sentence in the corpus in text format:\n",
      "A MIDSUMMER-NIGHT'S DREAM Now , fair Hippolyta , our nuptial hour Draws on apace : four happy days bring in Another moon ; but O ! methinks how slow This old\n",
      "\n",
      "First sentence in the corpus in token-id format:\n",
      "[70, 5876, 5877, 194, 1, 143, 1948, 1, 58, 1425, 319, 4108, 46, 1949, 11, 607, 778, 608, 275, 12, 1950, 415, 5, 35, 62, 17, 1042, 119, 1115, 114, 173]\n",
      "\n",
      "Test conversaion from token-ids to text using rev_vocab:\n",
      "A MIDSUMMER-NIGHT'S DREAM Now , fair Hippolyta , our nuptial hour Draws on apace : four happy days bring in Another moon ; but O ! methinks how slow This old\n",
      "\n",
      "Structure the training data (note that the first sentence is in the first colon):\n",
      "tensor([[   70,  3426,  1967,    31,    51,     1,  4276,     4,    17,   113],\n",
      "        [ 5876,     1,     1,  4954,     2,     3,     2,   123,    38,    16],\n",
      "        [ 5877,  6562,     4,   262,   303,   101,   118,    51,  2018,    28],\n",
      "        [  194,  2799,   189,    51,    90,  4639,   375,    47,  1892,    50],\n",
      "        [    1,   534,     9,    43,     9,    16,     4,  1110,     7,  1544],\n",
      "        [  143,    12,    13,  1243,    39,   161,     1,     1,  5780,   589],\n",
      "        [ 1948,    10,   128,     1,    10,  3415,   390,   327,     2,   191],\n",
      "        [    1,  1086,     1,  7779,   641,   148,     8,    51,   102, 11814],\n",
      "        [   58,     8,    28,    51,   339,  3464,    21,    64,    14,     2],\n",
      "        [ 1425,  4440,    31,    43,     2,     2,   933,  4044,   130,    53],\n",
      "        [  319,    11,   175,   113,     4,   139,     9,     5,   230,    19],\n",
      "        [ 4108,    38,    98,  3734,    55,    56,   327,     6,     1,    15],\n",
      "        [   46,  4441,    27,  1611,    34,    81,   121,    12,     4,   513],\n",
      "        [ 1949,   201,  2469,     1,     5,   159,  1623,  5018,  2868,    16],\n",
      "        [   11,     1,     6,     6,     4,    65,    10,  2632,   603,   108],\n",
      "        [  607,    12,   497,   135,    37,   642,  9637,     1,   588,    28],\n",
      "        [  778,    10,     5,   174,    54,     7,     1,  5642,     2,   350],\n",
      "        [  608,   768,  1260,    51,    19,   459,    96,    98,     4,  1467],\n",
      "        [  275,  3427,     3,   277,   180,     2,  9638,    51,    26,    27],\n",
      "        [   12,  6563,  7207,    28,    77,    53,   110,   187,   374, 11815]])\n"
     ]
    }
   ],
   "source": [
    "# Create and initialize the vocabulary\n",
    "corpus_path = \"tech-2019/data/shakespeare_top20K.txt\"\n",
    "vocab_path = \"vocab.txt\"\n",
    "\n",
    "create_vocabulary(corpus_path, vocab_path)\n",
    "vocab, rev_vocab = initialize_vocabulary(vocab_path)\n",
    "\n",
    "# Read the training corpus\n",
    "corpus = read_corpus(corpus_path)\n",
    "token_ids = corpus_to_token_ids(corpus, vocab)\n",
    "\n",
    "# Structure the corpus in continuous sequences of batch_size for training\n",
    "batch_size = 10\n",
    "data = batch_data(token_ids, batch_size)\n",
    "data = torch.LongTensor(data).to(DEVICE)\n",
    "\n",
    "print(\"Number of tokens in the corpus: {}\"\n",
    "      .format(len(corpus)), end=\"\\n\\n\")\n",
    "print(\"Size of vocabulary: {}\"\n",
    "      .format(len(vocab)), end=\"\\n\\n\")\n",
    "print(\"Top 20 most frequent tokens in the corpus: \\n{}\"\n",
    "      .format(rev_vocab[1:21]), end=\"\\n\\n\")\n",
    "print(\"First sentence in the corpus in text format:\\n{}\"\n",
    "      .format(\" \".join(corpus[:31])), end=\"\\n\\n\")\n",
    "print(\"First sentence in the corpus in token-id format:\\n{}\"\n",
    "      .format(token_ids[:31]), end=\"\\n\\n\")\n",
    "print(\"Test conversaion from token-ids to text using rev_vocab:\\n{}\"\n",
    "      .format(\" \".join([rev_vocab[i] for i in token_ids[:31]])), end=\"\\n\\n\")\n",
    "print(\"Structure the training data (note that the first sentence \"\n",
    "      \"is in the first colon):\\n{}\".format(data[:20]))"
   ]
  },
  {
   "cell_type": "code",
   "execution_count": 52,
   "metadata": {
    "colab": {
     "base_uri": "https://localhost:8080/",
     "height": 54
    },
    "colab_type": "code",
    "id": "E2EXx8HBsZAY",
    "outputId": "3d2834be-4806-4eb5-bd9d-9b790c4eae87"
   },
   "outputs": [
    {
     "name": "stdout",
     "output_type": "stream",
     "text": [
      "Ensemble d'entraînement: 14389 séquences de longueur 40 et 360 minibatches\n",
      "Ensemble de validation : 1599 séquences de longueur 40 et 40 minibatches\n"
     ]
    }
   ],
   "source": [
    "# Split ensembles training/validation and create DataLoaders\n",
    "X = data[:-1]\n",
    "Y = data[1:]\n",
    "\n",
    "n_valid = round(data.size(0) * 0.1)\n",
    "train_set = TensorDataset(X[:(data.size(0)-n_valid)], Y[:(data.size(0)-n_valid)])\n",
    "valid_set = TensorDataset(X[-n_valid:], Y[-n_valid:])\n",
    "\n",
    "seq_len = 40\n",
    "train_loader = DataLoader(train_set, batch_size=seq_len, shuffle=False)\n",
    "valid_loader = DataLoader(valid_set, batch_size=seq_len, shuffle=False)\n",
    "\n",
    "print(\"Training set: {} sequences of length {} and {} minibatches\"\n",
    "      .format(len(train_set), seq_len, len(train_loader)))\n",
    "print(\"Validation set: {} sequences of length {} and {} minibatches\"\n",
    "      .format(len(valid_set), seq_len, len(valid_loader)))"
   ]
  },
  {
   "cell_type": "markdown",
   "metadata": {
    "colab_type": "text",
    "id": "IAgSaVwmVxrt"
   },
   "source": [
    "## Implementing the model\n",
    "\n",
    "Below you will find the code of an *LSTM-based neural language model* as described in the **A bit more context to understand language modelling** Section.\n",
    "\n",
    "At each timestep, the input variables of the LSTM are:\n",
    "<ol>\n",
    "    <li> a minibatch of sequences of token-ids (i.e., sequences of indices where each index represents the position of a token in the vocabulary);</li>\n",
    "    <li> tuples $(\\mathbf{h}_{0}, \\mathbf{c}_{0})$ corresponding to recurrent states and memory states  $(\\mathbf{h}_{T}, \\mathbf{c}_{T})$ from the previous minibatch  (except for the first minibatch where we simply initialize these variables to 0.0 with the `init_hidden()` function).\n",
    "</ol>\n",
    "\n",
    "Each sequence of token-ids is transformed in sequences of *word embeddings* by indexing the *word embeddings* created by the class [torch.nn.Embedding()](https://pytorch.org/docs/stable/nn.html?highlight=embedding#torch.nn.Embedding) which is a matrix of parameters of dimension $|V| \\times d_{e}$, where $|V|$ is the vocabulary size (`vocab_size`) and $d_{e}$ is the dimension of a *word embedding* (`embedding_size`).\n",
    "\n",
    "We will also apply dropout on the input *word embeddings* as well as on the output layer to provide regularization."
   ]
  },
  {
   "cell_type": "code",
   "execution_count": 57,
   "metadata": {
    "colab": {},
    "colab_type": "code",
    "id": "0YMiwftasb4g"
   },
   "outputs": [],
   "source": [
    "class LanguageModel(nn.Module):\n",
    "    \"\"\"LSTM based language neural model\"\"\"\n",
    "    \n",
    "    def __init__(self, vocab_size, input_size, hidden_size, n_layers=1, dropout=0.5):\n",
    "        \"\"\"\n",
    "        Args:\n",
    "          vocab_size: size of the vocabulary.\n",
    "          input_size: size of the word embeddings.\n",
    "          hidden_size: size of the hiden states of the LSTM.\n",
    "          n_layers: number of layers of the LSTM (default: 1).\n",
    "          dropout: if non-zero, uses a layer of dropout at the input at at the output of \n",
    "                    the LSTM introduit une couche dropout à l'entrée et à la sortie,\n",
    "                    where the input sets the value of the dropout (default: 0.5).\n",
    "        \"\"\"        \n",
    "        super(LanguageModel, self).__init__()\n",
    "        self.hidden_size = hidden_size\n",
    "        self.n_layers = n_layers\n",
    "        \n",
    "        self.embeddings = nn.Embedding(vocab_size, input_size)\n",
    "        self.lstm = nn.LSTM(input_size,\n",
    "                            hidden_size,\n",
    "                            n_layers)\n",
    "        self.linear = nn.Linear(hidden_size, vocab_size)\n",
    "        self.dropout = nn.Dropout(dropout)\n",
    "\n",
    "        self.init_weights()\n",
    "\n",
    "    def forward(self, input, hidden):\n",
    "        embeddings = self.dropout(self.embeddings(input))\n",
    "        output, hidden = self.lstm(embeddings, hidden)\n",
    "        output = self.dropout(output)\n",
    "        result = self.linear(output.view(output.size(0)*output.size(1), output.size(2)))\n",
    "        return result.view(output.size(0), output.size(1), result.size(1)), hidden\n",
    "\n",
    "    def init_weights(self):\n",
    "        init.uniform_(self.embeddings.weight, -0.1, 0.1)\n",
    "        init.xavier_uniform_(self.linear.weight, init.calculate_gain(\"linear\"))\n",
    "        init.constant_(self.linear.bias, 0)\n",
    "        \n",
    "    def init_hidden(self, batch_size):\n",
    "        \"\"\"Initialize the values of the hidden state and the LSTM cell to zero.\n",
    "        Args:\n",
    "          batch_size: size of a mini-batch at one time-step\n",
    "          \n",
    "        Returns:\n",
    "          hidden: hidden state h_t and the cell c_t à t=0 initialized to 0, \n",
    "                  ((n_layers, batch_size, hidden_size),\n",
    "                   (n_layers, batch_size, hidden_size)).\n",
    "        \"\"\"\n",
    "        hidden = (torch.zeros(self.n_layers, batch_size, self.hidden_size, device=DEVICE),\n",
    "                  torch.zeros(self.n_layers, batch_size, self.hidden_size, device=DEVICE))\n",
    "        return hidden"
   ]
  },
  {
   "cell_type": "markdown",
   "metadata": {
    "colab_type": "text",
    "id": "oPPkC_0GV3iu"
   },
   "source": [
    "## Training the model\n",
    "\n",
    "The training procedure is very similar to the procedure used in Task 1. The key elements that differ are: \n",
    "\n",
    "* We use dropout on the input *word embeddings* as well as on the output layer of the LSTM. The small size of our data makes regularization important. In particular, for language models based on recurrent neural networks, we suggest using a fairly large droput value.\n",
    "* We change the learning rate through training. We begin with a fairly high one (see `learning_rate`) and divide it by 10 as a function of the validation error at the end of each *epoch*. In particular we use this class:  [torch.optim.lr_scheduler.ReduceLROnPlateau()](https://pytorch.org/docs/stable/optim.html?highlight=plateau#torch.optim.lr_scheduler.ReduceLROnPlateau).\n",
    "* To mitigate the problem of *exploding gradient* we use a *gradient-clipping* approach and normalize the norm of the gradient using this function [torch.nn.utils.clip_grad_norm_()](https://pytorch.org/docs/stable/nn.html?highlight=clip#torch.nn.utils.clip_grad_norm_).\n",
    "* We initialize to 0.0 the values of the tuple containing the recurrent state and the hidden memory state $(\\mathbf{h}_{0}, \\mathbf{c}_{0})$ using the `init_hidden()` function. We do this only once at the beginning of each *epoch* and we propagate the new values of hidden through all training minibatches. In other words, the data has beeen structured using the `batch_data()` function such that we can initialize `hidden` $(\\mathbf{h}_{0}, \\mathbf{c}_{0})$ of each sequence of minibatch using $(\\mathbf{h}_{T}, \\mathbf{c}_{T})$ of the previous minibatch. Using this method implies that we cannot shuffle the order of the sequences at each training *epoch* (i.e., `train_loader = DataLoader(train_set, batch_size=seq_len, shuffle=False)`).\n",
    "* Our cost function is the cross-entropy [torch.nn.CrossEntropyLoss()](https://pytorch.org/docs/stable/nn.html?highlight=crossentropy#torch.nn.CrossEntropyLoss) which is standard for multi-class classification problems.\n",
    "* We will use *[perplexity](https://en.wikipedia.org/wiki/Perplexity)* as a way to measure the quality of our model. The intuition is that a good model should not be perplex when evaluating new data. "
   ]
  },
  {
   "cell_type": "code",
   "execution_count": 54,
   "metadata": {
    "colab": {
     "base_uri": "https://localhost:8080/",
     "height": 472
    },
    "colab_type": "code",
    "id": "winuGw1rsuOe",
    "outputId": "9ff9c5f3-a3c1-4537-8692-0b9fcc629924"
   },
   "outputs": [
    {
     "name": "stdout",
     "output_type": "stream",
     "text": [
      "Nombre de paramètres dans le modèle: 9783354\n",
      "Entraînement du modèle pour 20 epochs de 360 minibatches\n",
      "Epoch  1 | Training loss = 6.74751 | Validation loss = 5.92905 | Perplexity = 375.80\n",
      "Epoch  2 | Training loss = 5.98986 | Validation loss = 5.73647 | Perplexity = 309.97\n",
      "Epoch  3 | Training loss = 5.77130 | Validation loss = 5.58605 | Perplexity = 266.68\n",
      "Epoch  4 | Training loss = 5.63721 | Validation loss = 5.52013 | Perplexity = 249.67\n",
      "Epoch  5 | Training loss = 5.53869 | Validation loss = 5.46346 | Perplexity = 235.91\n",
      "Epoch  6 | Training loss = 5.45660 | Validation loss = 5.41640 | Perplexity = 225.07\n",
      "Epoch  7 | Training loss = 5.37894 | Validation loss = 5.40622 | Perplexity = 222.79\n",
      "Epoch  8 | Training loss = 5.31645 | Validation loss = 5.37788 | Perplexity = 216.56\n",
      "Epoch  9 | Training loss = 5.25550 | Validation loss = 5.38792 | Perplexity = 218.75\n",
      "Epoch 10 | Training loss = 5.19939 | Validation loss = 5.36753 | Perplexity = 214.33\n",
      "Epoch 11 | Training loss = 5.14271 | Validation loss = 5.37240 | Perplexity = 215.38\n",
      "Epoch 12 | Training loss = 5.09691 | Validation loss = 5.37463 | Perplexity = 215.86\n",
      "Epoch 13 | Training loss = 5.05374 | Validation loss = 5.36404 | Perplexity = 213.59\n",
      "Epoch 14 | Training loss = 5.00831 | Validation loss = 5.38665 | Perplexity = 218.47\n",
      "Epoch 15 | Training loss = 4.96182 | Validation loss = 5.38813 | Perplexity = 218.79\n",
      "Epoch    15: reducing learning rate of group 0 to 1.0000e+00.\n",
      "Epoch 16 | Training loss = 4.92698 | Validation loss = 5.39601 | Perplexity = 220.53\n",
      "Epoch 17 | Training loss = 4.76036 | Validation loss = 5.36740 | Perplexity = 214.31\n",
      "Epoch 18 | Training loss = 4.69335 | Validation loss = 5.36902 | Perplexity = 214.65\n",
      "Epoch    18: reducing learning rate of group 0 to 1.0000e-01.\n",
      "Epoch 19 | Training loss = 4.65659 | Validation loss = 5.37491 | Perplexity = 215.92\n",
      "Epoch 20 | Training loss = 4.62498 | Validation loss = 5.37093 | Perplexity = 215.06\n",
      "Félicitations! Vous avez terminé d'entraîner votre beau modèle de langue neuronal!\n"
     ]
    }
   ],
   "source": [
    "# Construct the model\n",
    "vocab_size = len(vocab)\n",
    "embedding_size = 300\n",
    "hidden_size = 400\n",
    "n_layers = 1\n",
    "dropout = 0.65\n",
    "model = LanguageModel(vocab_size, embedding_size, hidden_size, n_layers, dropout).to(DEVICE)\n",
    "print(\"Number of parameters in the model:\", sum(param.nelement() for param in model.parameters()))\n",
    "\n",
    "# Cost and optimization functions\n",
    "learning_rate = 10\n",
    "loss_fun = nn.CrossEntropyLoss()\n",
    "optimizer = optim.SGD(model.parameters(), lr=learning_rate)\n",
    "scheduler = optim.lr_scheduler.ReduceLROnPlateau(optimizer, factor=0.1, patience=2, verbose=True)\n",
    "\n",
    "# Training the model\n",
    "n_epochs = 20\n",
    "max_grad_norm = 1\n",
    "\n",
    "print(\"Training the model for {} epochs of {} minibatches\".format(n_epochs, len(train_loader)))\n",
    "for epoch in range(n_epochs):\n",
    "    model.train()\n",
    "    hidden = model.init_hidden(batch_size)\n",
    "    train_loss = 0\n",
    "    valid_loss = 0\n",
    "    for x, y in train_loader:\n",
    "        # Separate the hidden nodes from the computational graph\n",
    "        hidden = detach_hidden(hidden)\n",
    "        \n",
    "        # Reinitialize the gradient\n",
    "        optimizer.zero_grad()\n",
    "                \n",
    "        # Forward pass\n",
    "        y_pred, hidden = model(x, hidden)\n",
    "        \n",
    "        # Calculate the loss\n",
    "        loss = loss_fun(y_pred.view(-1, vocab_size), y.view(-1))\n",
    "        \n",
    "        # Calculate the gradient\n",
    "        loss.backward()\n",
    "        \n",
    "        # Normalise the gradient to prevent gradient expoding\n",
    "        nn.utils.clip_grad_norm_(model.parameters(), max_grad_norm)\n",
    "        \n",
    "        # Update model parameters\n",
    "        optimizer.step()        \n",
    "        \n",
    "        # Accumulate total loss\n",
    "        train_loss += len(x) * loss.item()\n",
    "    \n",
    "    # Eval the model using the validation set\n",
    "    model.eval()\n",
    "    with torch.no_grad():\n",
    "        hidden = model.init_hidden(batch_size)\n",
    "        for x, y in valid_loader:\n",
    "            y_pred, hidden = model(x, hidden)\n",
    "            loss = loss_fun(y_pred.view(-1, vocab_size), y.view(-1))\n",
    "            valid_loss += len(x) * loss.item()\n",
    "    \n",
    "    train_loss /= len(train_loader.dataset)\n",
    "    valid_loss /= len(valid_loader.dataset)\n",
    "    scheduler.step(valid_loss)\n",
    "\n",
    "    print(\"Epoch {:2d} | Training loss = {:.5f} | Validation loss = {:.5f} | Perplexity = {:.2f}\"\n",
    "          .format(epoch+1, train_loss, valid_loss, np.exp(valid_loss)))\n",
    "print(\"Congratulations! You have now trained a neural language model!\")"
   ]
  },
  {
   "cell_type": "markdown",
   "metadata": {
    "colab_type": "text",
    "id": "tKAOoUwWV8To"
   },
   "source": [
    "## Text generation\n",
    "\n",
    "Now that we have trained a language model, we can use it to generate text as Shakespeare! \n",
    "To do so, we will randomly select the first word (i.e., a token in a vocabulary) and use that as the input token at timestep one. We will then use the output token at the first timestep as the input token at the second timestep and son on. In total we will generate `n_words`. The `smoothing` variable allows one to obtain change the diversity of the generated text. A higher value generate more diverse but often lower quality text."
   ]
  },
  {
   "cell_type": "code",
   "execution_count": 61,
   "metadata": {
    "colab": {
     "base_uri": "https://localhost:8080/",
     "height": 381
    },
    "colab_type": "code",
    "id": "lLg-dbOSsuVu",
    "outputId": "6ab42a51-681f-402d-cb3a-90649a13c8b8"
   },
   "outputs": [
    {
     "name": "stdout",
     "output_type": "stream",
     "text": [
      "woman in this time , And , by the heart , that I have heard . \n",
      " I am not a man . I say , and I will tell you . \n",
      " I am a fool , sir . I will do you , sir , I \n",
      " will entreat you . Come , sir , I am a woman . You shall \n",
      " have a simple word , sir ; but I am a poor man , and \n",
      " his mother is a good lady . I beseech you , sir , I know \n",
      " not . And , I will tell you , sir , we are no more \n",
      " . You shall not be a good word . I am no more . You \n",
      " have been a courtier , sir , as I have a good friend , and \n",
      " you do not know , To say , what you shall not be so , \n",
      " and my good lady , I charge you , sir , I will not be \n",
      " found to be a very good friend . I will not be a bawd , \n",
      " sir ; but I will tell you , for that , as I have heard \n",
      " him a word with her , as I have heard of your estate . I \n",
      " will not do some man no harm . But I am going to be a \n",
      " man of the forest , is the thing that I have , sir , I \n",
      " do not know you shall be a poor fellow . I would not were it \n",
      " with a maid . I am yours , I am sure you have not seen \n",
      " , as I am to eat the man . I will be wi' you , \n",
      " sir , as he is , my lord . I have seen you ,\n"
     ]
    }
   ],
   "source": [
    "# Generating sequences of words\n",
    "model.eval()\n",
    "x = torch.randint(0, vocab_size, (1, 1), dtype=torch.long, device=DEVICE)\n",
    "words = [rev_vocab[x]]\n",
    "n_words = 300\n",
    "smoothing = 0.5\n",
    "with torch.no_grad(): \n",
    "    hidden = model.init_hidden(1)\n",
    "    for i in range(n_words-1):\n",
    "        output, hidden = model(x, hidden)\n",
    "        weights = output.squeeze().div(smoothing).exp()\n",
    "        word_idx = torch.multinomial(weights, 1)\n",
    "        x.fill_(word_idx.squeeze())\n",
    "        word = rev_vocab[word_idx]\n",
    "        words.append(word)\n",
    "        if (i+1) % 15 == 0:\n",
    "            words.append(\"\\n\")\n",
    "print(\" \".join(words))"
   ]
  },
  {
   "cell_type": "markdown",
   "metadata": {
    "colab_type": "text",
    "id": "8HI-Elp2UhBY"
   },
   "source": [
    "What do you think of this generated text? What is remarkable is that many short sequences of words seem plausible. Longer phrases, however, usually do not make much sense. \n",
    "\n",
    "We note that both commas `,` and periods `.` appear very often in this generated text. This can be explain by the fact that they are the most frequent tokens in our (training) dataset. \n",
    "\n",
    "To obtain higher-quality texte would require training with a larger corpus. Further, the vocabulary and the style of Shakespeare may not be easiest to learn from. "
   ]
  },
  {
   "cell_type": "markdown",
   "metadata": {
    "colab_type": "text",
    "id": "lVeeLCaC29Mx"
   },
   "source": [
    "---\n",
    "## References\n",
    "http://karpathy.github.io/2015/05/21/rnn-effectiveness/\n",
    "\n",
    "https://arxiv.org/abs/1803.08240"
   ]
  }
 ],
 "metadata": {
  "accelerator": "GPU",
  "colab": {
   "collapsed_sections": [],
   "name": "RNN_solution.ipynb",
   "provenance": [],
   "toc_visible": true,
   "version": "0.3.2"
  },
  "kernelspec": {
   "display_name": "Python 3",
   "language": "python",
   "name": "python3"
  },
  "language_info": {
   "codemirror_mode": {
    "name": "ipython",
    "version": 3
   },
   "file_extension": ".py",
   "mimetype": "text/x-python",
   "name": "python",
   "nbconvert_exporter": "python",
   "pygments_lexer": "ipython3",
   "version": "3.7.2"
  }
 },
 "nbformat": 4,
 "nbformat_minor": 1
}
